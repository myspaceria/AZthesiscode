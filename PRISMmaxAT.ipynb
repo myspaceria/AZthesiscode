{
  "nbformat": 4,
  "nbformat_minor": 0,
  "metadata": {
    "colab": {
      "provenance": [],
      "gpuType": "T4",
      "authorship_tag": "ABX9TyOpk248nLJmsgV5aXqlVIcI",
      "include_colab_link": true
    },
    "kernelspec": {
      "name": "python3",
      "display_name": "Python 3"
    },
    "language_info": {
      "name": "python"
    },
    "accelerator": "GPU"
  },
  "cells": [
    {
      "cell_type": "markdown",
      "metadata": {
        "id": "view-in-github",
        "colab_type": "text"
      },
      "source": [
        "<a href=\"https://colab.research.google.com/github/myspaceria/AZthesiscode/blob/main/PRISMmaxAT.ipynb\" target=\"_parent\"><img src=\"https://colab.research.google.com/assets/colab-badge.svg\" alt=\"Open In Colab\"/></a>"
      ]
    },
    {
      "cell_type": "code",
      "execution_count": null,
      "metadata": {
        "id": "DRSEmmdcaYnS"
      },
      "outputs": [],
      "source": [
        "import os\n",
        "import requests\n",
        "from datetime import datetime, timedelta\n",
        "\n",
        "base_url = 'https://services.nacse.org/prism/data/get/us/4km/tmax'\n",
        "output_dir = 'prism_maxdownload'\n",
        "os.makedirs(output_dir, exist_ok=True)\n",
        "\n",
        "start_date = datetime(2016, 5, 1)\n",
        "end_date = datetime(2020, 9, 30)\n",
        "\n",
        "current_date = start_date\n",
        "while current_date <= end_date:\n",
        "    # Only download if month between May (5) and Sept (9)\n",
        "    if 5 <= current_date.month <= 9:\n",
        "        date_str = current_date.strftime('%Y%m%d')\n",
        "        url = f\"{base_url}/{date_str}\"\n",
        "        print(f\"Downloading {url}...\")\n",
        "        response = requests.get(url)\n",
        "        if response.status_code == 200:\n",
        "            filename = response.headers.get('content-disposition')\n",
        "            if filename:\n",
        "                # extract filename from header\n",
        "                fname = filename.split('filename=')[1].strip('\"')\n",
        "            else:\n",
        "                fname = f\"PRISM_tmax_stable_4kmD1_{date_str}_bil.bil\"\n",
        "            with open(os.path.join(output_dir, fname), 'wb') as f:\n",
        "                f.write(response.content)\n",
        "        else:\n",
        "            print(f\"Failed to download for {date_str}, status: {response.status_code}\")\n",
        "    current_date += timedelta(days=1)\n"
      ]
    },
    {
      "cell_type": "code",
      "source": [
        "!pip install rasterio"
      ],
      "metadata": {
        "id": "I2bbjEYlezkh"
      },
      "execution_count": null,
      "outputs": []
    },
    {
      "cell_type": "code",
      "source": [
        "import os\n",
        "import zipfile\n",
        "\n",
        "zip_folder = \"prism_maxdownload/\"\n",
        "extract_folder = \"prism_extract/\"\n",
        "os.makedirs(extract_folder, exist_ok=True)\n",
        "\n",
        "# Unzip all zip files\n",
        "for zip_filename in os.listdir(zip_folder):\n",
        "    if zip_filename.endswith('.zip'):\n",
        "        zip_path = os.path.join(zip_folder, zip_filename)\n",
        "        with zipfile.ZipFile(zip_path, 'r') as zip_ref:\n",
        "            zip_ref.extractall(extract_folder)\n"
      ],
      "metadata": {
        "id": "h_2g0kIMfoKU"
      },
      "execution_count": null,
      "outputs": []
    },
    {
      "cell_type": "code",
      "source": [],
      "metadata": {
        "id": "rAr_kq1cfsnT"
      },
      "execution_count": null,
      "outputs": []
    },
    {
      "cell_type": "code",
      "source": [
        "import os\n",
        "import rasterio\n",
        "import numpy as np\n",
        "\n",
        "# Folder containing the extracted .tif PRISM files\n",
        "input_folder = \"/content/prism_extract/\"\n",
        "output_file = \"/content/prism_max_temperature_all_years.tif\"\n",
        "\n",
        "# List all .tif files in the input folder\n",
        "tif_files = [os.path.join(input_folder, f) for f in os.listdir(input_folder) if f.endswith(\".tif\")]\n",
        "\n",
        "# Initialize variables\n",
        "sum_data = None\n",
        "count = 0\n",
        "\n",
        "for idx, tif_path in enumerate(tif_files):\n",
        "    with rasterio.open(tif_path) as src:\n",
        "        data = src.read(1).astype(np.float32)\n",
        "        nodata = src.nodata\n",
        "\n",
        "        if nodata is not None:\n",
        "            mask = data == nodata\n",
        "            data[mask] = np.nan  # Handle no-data as NaN\n",
        "        else:\n",
        "            mask = np.isnan(data)\n",
        "\n",
        "        if sum_data is None:\n",
        "            sum_data = np.zeros_like(data, dtype=np.float32)\n",
        "\n",
        "        sum_data += np.nan_to_num(data)\n",
        "        count += (~mask).astype(int)  # Add only valid pixels\n",
        "\n",
        "# Avoid divide by zero\n",
        "mean_data = np.divide(sum_data, count, out=np.full_like(sum_data, np.nan), where=count != 0)\n",
        "\n",
        "# Save the average image\n",
        "with rasterio.open(tif_files[0]) as src0:\n",
        "    profile = src0.profile\n",
        "    profile.update(dtype=rasterio.float32, count=1, compress='lzw', nodata=np.nan)\n",
        "\n",
        "    with rasterio.open(output_file, 'w', **profile) as dst:\n",
        "        dst.write(mean_data.astype(np.float32), 1)\n",
        "\n",
        "print(f\"Saved mean raster: {output_file}\")\n",
        "\n",
        "\n"
      ],
      "metadata": {
        "id": "iLr_srm6dROJ"
      },
      "execution_count": null,
      "outputs": []
    },
    {
      "cell_type": "code",
      "metadata": {
        "id": "fda4b72e"
      },
      "source": [],
      "execution_count": null,
      "outputs": []
    }
  ]
}